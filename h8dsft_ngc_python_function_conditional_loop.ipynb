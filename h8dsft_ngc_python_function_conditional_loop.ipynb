{
 "cells": [
  {
   "cell_type": "code",
   "execution_count": 31,
   "metadata": {},
   "outputs": [
    {
     "data": {
      "text/plain": [
       "8"
      ]
     },
     "execution_count": 31,
     "metadata": {},
     "output_type": "execute_result"
    }
   ],
   "source": [
    "def number_of_word(sentence):\n",
    "  return len(sentence.split())\n",
    "\n",
    "number_of_word(\"Once Upon a Time in a faraway land\")"
   ]
  },
  {
   "cell_type": "code",
   "execution_count": 3,
   "metadata": {},
   "outputs": [
    {
     "data": {
      "text/plain": [
       "[5, 10, 15, 20]"
      ]
     },
     "execution_count": 3,
     "metadata": {},
     "output_type": "execute_result"
    }
   ],
   "source": [
    "def find_multiple(start_range, end_range, multiple):\n",
    "    return list(range(start_range * multiple, end_range + multiple, multiple))\n",
    "    \n",
    "    \n",
    "find_multiple(1, 20, 5)\n",
    "\n",
    "\n"
   ]
  },
  {
   "cell_type": "code",
   "execution_count": 12,
   "metadata": {},
   "outputs": [
    {
     "data": {
      "text/plain": [
       "{'Adam': 2.5, 'Faiz': 1}"
      ]
     },
     "execution_count": 12,
     "metadata": {},
     "output_type": "execute_result"
    }
   ],
   "source": [
    "def Grade_Converter(convert_to, **students):\n",
    "    \n",
    "        for student, grade in students.items():\n",
    "            if grade > 85:\n",
    "                if convert_to == 'gpa':\n",
    "                    students[student] = 4\n",
    "                else:\n",
    "                    students[student] = 'A'\n",
    "            elif grade > 70:\n",
    "                if convert_to == 'gpa':\n",
    "                    students[student] = 3\n",
    "                else:\n",
    "                    students[student] = 'B'\n",
    "            elif grade > 60:\n",
    "                if convert_to == 'gpa':\n",
    "                    students[student] = 2.5\n",
    "                else:\n",
    "                    students[student] = 'C'\n",
    "            elif grade > 50:\n",
    "                if convert_to == 'gpa':\n",
    "                    students[student] = 2\n",
    "                else:\n",
    "                    students[student] = 'D'\n",
    "            elif grade > 40:\n",
    "                if convert_to == 'gpa':\n",
    "                    students[student] = 1.5\n",
    "                else:\n",
    "                    students[student] = 'E'\n",
    "            else:\n",
    "                if convert_to == 'gpa':\n",
    "                    students[student] = 1\n",
    "                else:\n",
    "                    students[student] = 'F'\n",
    "        return students\n",
    "\n",
    "\n",
    "\n",
    "Grade_Converter(\"gpa\",Adam=62,Faiz=11)"
   ]
  },
  {
   "cell_type": "code",
   "execution_count": 17,
   "metadata": {},
   "outputs": [
    {
     "data": {
      "text/plain": [
       "55"
      ]
     },
     "execution_count": 17,
     "metadata": {},
     "output_type": "execute_result"
    }
   ],
   "source": [
    "def my_function(n:int):\n",
    "    fib_seq = [0,1]\n",
    "    if n <= 1:\n",
    "        return fib_seq[n]\n",
    "    else:\n",
    "        for index in range(2, n+1):\n",
    "            fib_number = fib_seq[index-1] + fib_seq[index-2]\n",
    "            fib_seq.append(fib_number)\n",
    "        return fib_seq[n]\n",
    "\n",
    "\n",
    "\n",
    "my_function(10)"
   ]
  }
 ],
 "metadata": {
  "kernelspec": {
   "display_name": "base",
   "language": "python",
   "name": "python3"
  },
  "language_info": {
   "codemirror_mode": {
    "name": "ipython",
    "version": 3
   },
   "file_extension": ".py",
   "mimetype": "text/x-python",
   "name": "python",
   "nbconvert_exporter": "python",
   "pygments_lexer": "ipython3",
   "version": "3.11.7"
  }
 },
 "nbformat": 4,
 "nbformat_minor": 2
}
